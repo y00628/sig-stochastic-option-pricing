{
 "cells": [
  {
   "cell_type": "code",
   "execution_count": 1,
   "metadata": {},
   "outputs": [],
   "source": [
    "import pandas as pd\n",
    "import numpy as np\n",
    "import matplotlib.pyplot as plt"
   ]
  },
  {
   "cell_type": "code",
   "execution_count": 3,
   "metadata": {},
   "outputs": [
    {
     "data": {
      "text/html": [
       "<div>\n",
       "<style scoped>\n",
       "    .dataframe tbody tr th:only-of-type {\n",
       "        vertical-align: middle;\n",
       "    }\n",
       "\n",
       "    .dataframe tbody tr th {\n",
       "        vertical-align: top;\n",
       "    }\n",
       "\n",
       "    .dataframe thead th {\n",
       "        text-align: right;\n",
       "    }\n",
       "</style>\n",
       "<table border=\"1\" class=\"dataframe\">\n",
       "  <thead>\n",
       "    <tr style=\"text-align: right;\">\n",
       "      <th></th>\n",
       "      <th>Time</th>\n",
       "      <th>Sym</th>\n",
       "      <th>C/P</th>\n",
       "      <th>Exp</th>\n",
       "      <th>Strike</th>\n",
       "      <th>Spot</th>\n",
       "      <th>BidAsk</th>\n",
       "      <th>Orders</th>\n",
       "      <th>Vol</th>\n",
       "      <th>Prems</th>\n",
       "      <th>OI</th>\n",
       "      <th>Diff(%)</th>\n",
       "      <th>ITM</th>\n",
       "    </tr>\n",
       "  </thead>\n",
       "  <tbody>\n",
       "    <tr>\n",
       "      <th>0</th>\n",
       "      <td>6/17/2022 15:07</td>\n",
       "      <td>ISEE</td>\n",
       "      <td>Call</td>\n",
       "      <td>10/21/2022</td>\n",
       "      <td>10.0</td>\n",
       "      <td>9.54</td>\n",
       "      <td>5.05</td>\n",
       "      <td>7</td>\n",
       "      <td>360</td>\n",
       "      <td>183.60K</td>\n",
       "      <td>4.07K</td>\n",
       "      <td>4.71</td>\n",
       "      <td>0</td>\n",
       "    </tr>\n",
       "    <tr>\n",
       "      <th>1</th>\n",
       "      <td>6/17/2022 15:05</td>\n",
       "      <td>CVNA</td>\n",
       "      <td>Call</td>\n",
       "      <td>1/19/2024</td>\n",
       "      <td>60.0</td>\n",
       "      <td>23.52</td>\n",
       "      <td>4.60</td>\n",
       "      <td>7</td>\n",
       "      <td>634</td>\n",
       "      <td>310.66K</td>\n",
       "      <td>130</td>\n",
       "      <td>155.05</td>\n",
       "      <td>0</td>\n",
       "    </tr>\n",
       "    <tr>\n",
       "      <th>2</th>\n",
       "      <td>6/17/2022 14:51</td>\n",
       "      <td>PTLO</td>\n",
       "      <td>Put</td>\n",
       "      <td>2/17/2023</td>\n",
       "      <td>15.0</td>\n",
       "      <td>15.19</td>\n",
       "      <td>3.50</td>\n",
       "      <td>7</td>\n",
       "      <td>800</td>\n",
       "      <td>281.00K</td>\n",
       "      <td>0</td>\n",
       "      <td>1.39</td>\n",
       "      <td>0</td>\n",
       "    </tr>\n",
       "    <tr>\n",
       "      <th>3</th>\n",
       "      <td>6/17/2022 14:39</td>\n",
       "      <td>TWLO</td>\n",
       "      <td>Call</td>\n",
       "      <td>6/24/2022</td>\n",
       "      <td>86.0</td>\n",
       "      <td>84.51</td>\n",
       "      <td>2.95</td>\n",
       "      <td>5</td>\n",
       "      <td>722</td>\n",
       "      <td>198.80K</td>\n",
       "      <td>436</td>\n",
       "      <td>2.48</td>\n",
       "      <td>0</td>\n",
       "    </tr>\n",
       "    <tr>\n",
       "      <th>4</th>\n",
       "      <td>6/17/2022 13:56</td>\n",
       "      <td>ATUS</td>\n",
       "      <td>Put</td>\n",
       "      <td>9/16/2022</td>\n",
       "      <td>7.0</td>\n",
       "      <td>8.62</td>\n",
       "      <td>0.68</td>\n",
       "      <td>5</td>\n",
       "      <td>6.27K</td>\n",
       "      <td>501.84K</td>\n",
       "      <td>8.63K</td>\n",
       "      <td>23.13</td>\n",
       "      <td>0</td>\n",
       "    </tr>\n",
       "  </tbody>\n",
       "</table>\n",
       "</div>"
      ],
      "text/plain": [
       "              Time   Sym   C/P         Exp  Strike   Spot  BidAsk  Orders  \\\n",
       "0  6/17/2022 15:07  ISEE  Call  10/21/2022    10.0   9.54    5.05       7   \n",
       "1  6/17/2022 15:05  CVNA  Call   1/19/2024    60.0  23.52    4.60       7   \n",
       "2  6/17/2022 14:51  PTLO   Put   2/17/2023    15.0  15.19    3.50       7   \n",
       "3  6/17/2022 14:39  TWLO  Call   6/24/2022    86.0  84.51    2.95       5   \n",
       "4  6/17/2022 13:56  ATUS   Put   9/16/2022     7.0   8.62    0.68       5   \n",
       "\n",
       "     Vol    Prems     OI  Diff(%)  ITM  \n",
       "0    360  183.60K  4.07K     4.71    0  \n",
       "1    634  310.66K    130   155.05    0  \n",
       "2    800  281.00K      0     1.39    0  \n",
       "3    722  198.80K    436     2.48    0  \n",
       "4  6.27K  501.84K  8.63K    23.13    0  "
      ]
     },
     "execution_count": 3,
     "metadata": {},
     "output_type": "execute_result"
    }
   ],
   "source": [
    "tradeflow_raw = pd.read_csv('../data/raw/trade_flow.csv')\n",
    "tradeflow_raw.head()"
   ]
  },
  {
   "cell_type": "code",
   "execution_count": 4,
   "metadata": {},
   "outputs": [
    {
     "data": {
      "text/plain": [
       "Time       0\n",
       "Sym        0\n",
       "C/P        0\n",
       "Exp        0\n",
       "Strike     0\n",
       "Spot       0\n",
       "BidAsk     0\n",
       "Orders     0\n",
       "Vol        0\n",
       "Prems      0\n",
       "OI         0\n",
       "Diff(%)    0\n",
       "ITM        0\n",
       "dtype: int64"
      ]
     },
     "execution_count": 4,
     "metadata": {},
     "output_type": "execute_result"
    }
   ],
   "source": [
    "tradeflow_raw.isna().sum()"
   ]
  },
  {
   "cell_type": "code",
   "execution_count": null,
   "metadata": {},
   "outputs": [],
   "source": []
  }
 ],
 "metadata": {
  "kernelspec": {
   "display_name": ".venv",
   "language": "python",
   "name": "python3"
  },
  "language_info": {
   "codemirror_mode": {
    "name": "ipython",
    "version": 3
   },
   "file_extension": ".py",
   "mimetype": "text/x-python",
   "name": "python",
   "nbconvert_exporter": "python",
   "pygments_lexer": "ipython3",
   "version": "3.11.0"
  }
 },
 "nbformat": 4,
 "nbformat_minor": 2
}
